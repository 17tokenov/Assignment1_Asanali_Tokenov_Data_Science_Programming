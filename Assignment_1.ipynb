{
 "cells": [
  {
   "cell_type": "markdown",
   "id": "7cebc3ca",
   "metadata": {},
   "source": [
    "# **Assignment 1**"
   ]
  },
  {
   "cell_type": "markdown",
   "id": "0801ab46",
   "metadata": {},
   "source": [
    "## Task 1"
   ]
  },
  {
   "cell_type": "markdown",
   "id": "f6b8be72",
   "metadata": {},
   "source": [
    "### Creating a project Structure"
   ]
  },
  {
   "cell_type": "code",
   "execution_count": null,
   "id": "408888eb",
   "metadata": {},
   "outputs": [
    {
     "name": "stdout",
     "output_type": "stream",
     "text": [
      "Структура создана: project\n"
     ]
    }
   ],
   "source": [
    "# Implement libraries for creating folders and subfolders\n",
    "import os \n",
    "\n",
    "# Main Directory\n",
    "base_dir = \"project\"\n",
    "\n",
    "# Subdirectories\n",
    "subdirs = [\"data\", \"results\"]\n",
    "\n",
    "for sub in subdirs:\n",
    "    os.makedirs(os.path.join(base_dir, sub), exist_ok=True)\n",
    "\n",
    "print(\"Структура создана:\", base_dir)"
   ]
  },
  {
   "cell_type": "markdown",
   "id": "9702158c",
   "metadata": {},
   "source": [
    "### Working with CSV files"
   ]
  },
  {
   "cell_type": "code",
   "execution_count": 1,
   "id": "012d2d94",
   "metadata": {},
   "outputs": [
    {
     "name": "stdout",
     "output_type": "stream",
     "text": [
      "Results of reading the data full_name,group,math,physics,cs,history,english\n",
      "Shomanov Ayaulym,CS-23-01,56,71,69,85,84\n",
      "Sadykova Moldir,CS-23-02,62,77,57,69,79\n",
      "Sadykova Aliya,CS-23-03,68,83,80,69,82\n",
      "Imanbekov Yerlan,AI-24-01,53,87,84,74,66\n",
      "Nurmaganbet Temirlan,AI-24-02,63,75,75,74,71\n",
      "Kydyr Dana,SE-22-01,78,64,92,61,72\n",
      "Mukan Ayaulym,SE-22-02,90,75,68,61,84\n",
      "Turganbek Temirlan,CS-23-01,96,89,89,75,78\n",
      "Zhaksylykov Karina,CS-23-02,66,74,84,85,84\n",
      "Mukan Rustem,CS-23-03,83,80,70,78,71\n",
      "Ilyasov Sanzhar,AI-24-01,84,69,73,86,59\n",
      "Mansurova Karina,AI-24-02,87,76,60,91,81\n",
      "Nurmaganbet Madi,SE-22-01,69,79,90,83,65\n",
      "Kapanova Aigerim,SE-22-02,86,80,86,77,81\n",
      "Kapanova Bibigul,CS-23-01,98,65,79,86,89\n",
      "Ilyasov Aigerim,CS-23-02,66,84,82,75,82\n",
      "Tleubayeva Yerkebulan,CS-23-03,70,81,93,84,64\n",
      "Sadykova Moldir,AI-24-01,86,86,74,72,66\n",
      "Kydyr Aliya,AI-24-02,90,71,79,67,91\n",
      "Ilyasov Altynai,SE-22-01,72,83,82,66,86\n",
      "Abdullayev Damir,SE-22-02,92,92,82,79,63\n",
      "Yessimov Bibigul,CS-23-01,96,87,70,70,81\n",
      "Rakhimzhanov Rustem,CS-23-02,85,88,95,80,64\n",
      "Omarov Anel,CS-23-03,93,66,80,82,94\n",
      "Sadykova Sanzhar,AI-24-01,86,84,85,76,84\n",
      "Yeszhanov Bibigul,AI-24-02,91,78,70,60,56\n",
      "Kapanova Damir,SE-22-01,82,53,85,60,60\n",
      "Imanbekov Dana,SE-22-02,74,79,72,79,80\n",
      "Batyrbek Serik,CS-23-01,90,81,70,78,76\n",
      "Shomanov Samat,CS-23-02,83,74,76,89,59\n",
      "Ilyasov Ayaulym,CS-23-03,63,76,74,89,70\n",
      "Sadykova Aidos,AI-24-01,78,77,72,70,92\n",
      "Myrzakhmet Yerkebulan,AI-24-02,89,81,59,99,88\n",
      "Batyrbek Rustem,SE-22-01,86,70,76,79,89\n",
      "Mansurova Moldir,SE-22-02,66,51,76,92,87\n",
      "Smailova Adil,CS-23-01,84,85,87,84,79\n",
      "Turganbek Aidos,CS-23-02,69,60,85,60,73\n",
      "Zhussupov Dana,CS-23-03,78,92,80,59,79\n",
      "Beketov Altynai,AI-24-01,60,60,89,76,93\n",
      "Kapanova Ardak,AI-24-02,81,58,61,83,81\n",
      "Batyrbek Arman,SE-22-01,71,84,73,71,65\n",
      "Turganbek Ayaulym,SE-22-02,78,92,93,54,82\n",
      "Shomanov Ardak,CS-23-01,61,69,71,92,90\n",
      "Kapanova Moldir,CS-23-02,75,66,88,85,82\n",
      "Ilyasov Yerlan,CS-23-03,80,84,81,92,63\n",
      "Kenzhebay Moldir,AI-24-01,71,90,86,66,72\n",
      "Zhaksilik Aidos,AI-24-02,74,84,89,79,70\n",
      "Imanbekov Sanzhar,SE-22-01,59,83,88,58,74\n",
      "Ilyasov Aigerim,SE-22-02,96,66,77,85,81\n",
      "Rakhimzhanov Samat,CS-23-01,93,84,66,57,75\n",
      "Kenzhebay Damir,CS-23-02,77,58,75,92,95\n",
      "Yessimov Dana,CS-23-03,75,84,84,74,81\n",
      "Smailova Altynai,AI-24-01,95,86,92,70,66\n",
      "Myrzakhmet Yerlan,AI-24-02,67,76,67,92,87\n",
      "Myrzakhmet Zarina,SE-22-01,84,85,70,66,85\n",
      "Imanbekov Gulnaz,SE-22-02,58,78,68,92,74\n",
      "Myrzakhmet Karina,CS-23-01,90,69,83,76,72\n",
      "Abdullayev Rustem,CS-23-02,72,83,76,96,80\n",
      "Shomanov Aliya,CS-23-03,90,71,81,96,58\n",
      "Smailova Aknur,AI-24-01,74,87,77,96,64\n",
      "Zhussupov Moldir,AI-24-02,68,58,77,80,87\n",
      "Kydyr Anel,SE-22-01,93,85,68,77,93\n",
      "Nurmaganbet Sanzhar,SE-22-02,83,84,64,91,79\n",
      "Smailova Anel,CS-23-01,73,84,81,68,84\n",
      "Seitov Gulnaz,CS-23-02,86,67,81,76,88\n",
      "Turganbek Adil,CS-23-03,69,87,82,73,77\n",
      "Sarsembayev Anel,AI-24-01,79,87,94,85,83\n",
      "Tleubayeva Adil,AI-24-02,84,82,62,93,70\n",
      "Kapanova Adil,SE-22-01,87,66,58,96,82\n",
      "Rakhimzhanov Temirlan,SE-22-02,78,90,81,85,75\n",
      "Kapanova Gulnaz,CS-23-01,66,84,91,89,90\n",
      "Smailova Temirlan,CS-23-02,69,87,84,78,81\n",
      "Imanbekov Sanzhar,CS-23-03,64,65,78,80,81\n",
      "Abdullayev Arman,AI-24-01,90,82,85,79,88\n",
      "Yeszhanov Damir,AI-24-02,91,86,78,71,70\n",
      "Kaldybek Ayaulym,SE-22-01,86,80,83,71,61\n",
      "Kapanova Adil,SE-22-02,71,73,80,65,70\n",
      "Kenzhebay Madi,CS-23-01,85,60,76,80,76\n",
      "Kaliyev Aidos,CS-23-02,77,91,81,84,89\n",
      "Zhussupov Temirlan,CS-23-03,75,53,74,86,89\n",
      "Smailova Karina,AI-24-01,80,85,87,91,79\n",
      "Smailova Aruzhan,AI-24-02,79,76,84,87,85\n",
      "Yeszhanov Karina,SE-22-01,92,96,80,91,82\n",
      "Nugumanova Anel,SE-22-02,62,77,90,67,71\n",
      "Sarsembayev Arman,CS-23-01,78,74,90,72,93\n",
      "Kaldybek Zarina,CS-23-02,88,78,86,59,93\n",
      "Ilyasov Miras,CS-23-03,60,94,58,57,70\n",
      "Nugumanova Karina,AI-24-01,82,70,78,64,93\n",
      "Zhaksilik Yerkebulan,AI-24-02,71,75,82,94,85\n",
      "Kaliyev Temirlan,SE-22-01,66,73,81,92,81\n",
      "Akhmetova Sanzhar,SE-22-02,76,85,61,84,83\n",
      "Zhaksilik Samat,CS-23-01,86,89,82,64,96\n",
      "Mansurova Yerlan,CS-23-02,74,77,75,79,74\n",
      "Smailova Altynai,CS-23-03,88,63,94,83,88\n",
      "Kenzhebay Madi,AI-24-01,77,85,94,71,88\n",
      "Abdullayev Damir,AI-24-02,79,77,85,71,89\n",
      "Batyrbek Karina,SE-22-01,62,90,70,78,82\n",
      "Nurmaganbet Gulnaz,SE-22-02,57,89,67,69,87\n",
      "Kaldybek Arman,CS-23-01,90,85,71,54,93\n",
      "Kapanova Rustem,CS-23-02,85,79,86,84,83\n",
      "Yeszhanov Nuray,CS-23-03,87,62,69,84,73\n",
      "Zhaksylykov Ardak,AI-24-01,78,80,77,86,74\n",
      "Yeszhanov Madi,AI-24-02,71,70,64,68,64\n",
      "Abdullayev Damir,SE-22-01,84,68,85,71,82\n",
      "Tleubayeva Temirlan,SE-22-02,82,96,88,72,75\n",
      "Nugumanova Adil,CS-23-01,85,64,58,59,72\n",
      "Ilyasov Aigerim,CS-23-02,90,79,90,81,78\n",
      "Nurmaganbet Yerkebulan,CS-23-03,67,59,93,78,88\n",
      "Omarov Gulnaz,AI-24-01,61,83,59,66,81\n",
      "Rakhimzhanov Adil,AI-24-02,97,64,86,82,87\n",
      "Abdullayev Miras,SE-22-01,80,78,77,89,97\n",
      "Zhussupov Adil,SE-22-02,82,82,86,93,69\n",
      "Kaldybek Aidos,CS-23-01,83,66,67,61,52\n",
      "Zhaksilik Yerkebulan,CS-23-02,82,72,70,85,85\n",
      "Rakhimzhanov Yerkebulan,CS-23-03,84,92,87,83,84\n",
      "Sarsembayev Sanzhar,AI-24-01,77,80,83,91,88\n",
      "Mansurova Rustem,AI-24-02,67,73,86,81,72\n",
      "Yeszhanov Samat,SE-22-01,84,84,93,79,79\n",
      "Mukan Rustem,SE-22-02,58,77,73,70,62\n",
      "Kaliyev Anel,CS-23-01,89,82,56,86,88\n",
      "Mansurova Ardak,CS-23-02,86,67,80,77,72\n",
      "Smailova Ardak,CS-23-03,83,79,62,74,74\n",
      "Shomanov Anel,AI-24-01,89,74,84,72,93\n",
      "Abdullayev Karina,AI-24-02,81,78,73,73,95\n",
      "Imanbekov Gulnaz,SE-22-01,80,97,83,80,76\n",
      "Tleubayeva Aidos,SE-22-02,75,86,83,86,68\n",
      "Kenzhebay Damir,CS-23-01,92,77,84,64,95\n",
      "Myrzakhmet Aknur,CS-23-02,70,66,81,81,62\n",
      "Batyrbek Karina,CS-23-03,64,93,83,66,92\n",
      "Tleubayeva Adil,AI-24-01,85,76,79,78,78\n",
      "Akhmetova Aigerim,AI-24-02,68,82,86,65,61\n",
      "Myrzakhmet Temirlan,SE-22-01,89,74,87,71,52\n",
      "Turganbek Serik,SE-22-02,88,81,83,89,77\n",
      "Zhaksylykov Nuray,CS-23-01,74,86,75,92,90\n",
      "Kapanova Madi,CS-23-02,81,70,87,58,86\n",
      "Batyrbek Madi,CS-23-03,88,75,84,88,96\n",
      "Mansurova Nuray,AI-24-01,64,94,74,63,89\n",
      "Tleubayeva Samat,AI-24-02,91,55,65,90,95\n",
      "Omarov Rustem,SE-22-01,87,71,83,76,61\n",
      "Imanbekov Arman,SE-22-02,84,80,94,83,90\n",
      "Imanbekov Nuray,CS-23-01,80,82,70,84,72\n",
      "Kydyr Miras,CS-23-02,62,95,86,85,63\n",
      "Zhaksilik Almas,CS-23-03,72,57,73,59,75\n",
      "Kenzhebay Zarina,AI-24-01,70,76,84,67,67\n",
      "Imanbekov Aknur,AI-24-02,75,84,79,81,70\n",
      "Kaldybek Ayaulym,SE-22-01,78,84,91,78,72\n",
      "Beketov Damir,SE-22-02,61,93,96,72,94\n",
      "Kaldybek Madi,CS-23-01,78,72,99,89,63\n",
      "Zhussupov Gulnaz,CS-23-02,75,72,84,56,88\n",
      "Kaldybek Gulnaz,CS-23-03,53,89,87,95,91\n",
      "\n"
     ]
    }
   ],
   "source": [
    "# path to our csv file\n",
    "path_to_csv = \"/Users/asanali.tokenov/Desktop/Assignment_1_Assanali_Tokenov/project/data/students.csv\"\n",
    "\n",
    "\n",
    "# reading csv file\n",
    "with open(path_to_csv, \"r\", encoding=\"utf-8\") as f:\n",
    "    data = f.read()\n",
    "print(\"Results of reading the data\", data)\n"
   ]
  },
  {
   "cell_type": "code",
   "execution_count": null,
   "id": "a14e52b7",
   "metadata": {},
   "outputs": [
    {
     "name": "stdout",
     "output_type": "stream",
     "text": [
      "                full_name     group  avg_score\n",
      "0        Shomanov Ayaulym  CS-23-01       73.0\n",
      "1         Sadykova Moldir  CS-23-02       68.8\n",
      "2          Sadykova Aliya  CS-23-03       76.4\n",
      "3        Imanbekov Yerlan  AI-24-01       72.8\n",
      "4    Nurmaganbet Temirlan  AI-24-02       71.6\n",
      "..                    ...       ...        ...\n",
      "145      Kaldybek Ayaulym  SE-22-01       80.6\n",
      "146         Beketov Damir  SE-22-02       83.2\n",
      "147         Kaldybek Madi  CS-23-01       80.2\n",
      "148      Zhussupov Gulnaz  CS-23-02       75.0\n",
      "149       Kaldybek Gulnaz  CS-23-03       83.0\n",
      "\n",
      "[150 rows x 3 columns]\n"
     ]
    }
   ],
   "source": [
    "import pandas as pd\n",
    "# calculation of average score for each\n",
    "df = pd.read_csv(path_to_csv)\n",
    "\n",
    "subject_cols = [col for col in df.columns if col not in (\"full_name\", \"group\")]\n",
    "df[\"avg_score\"] = df[subject_cols].mean(axis=1) # axis = 1 is mean of columns, axis = 0 mean of rows\n",
    "\n",
    "print(df[[\"full_name\", \"group\", \"avg_score\"]])"
   ]
  },
  {
   "cell_type": "markdown",
   "id": "c1bd226a",
   "metadata": {},
   "source": [
    "### Save results"
   ]
  },
  {
   "cell_type": "code",
   "execution_count": 28,
   "id": "5c3ff664",
   "metadata": {},
   "outputs": [
    {
     "name": "stdout",
     "output_type": "stream",
     "text": [
      "Results are saved in: /Users/asanali.tokenov/Desktop/Assignment_1_Assanali_Tokenov/project/results/report.json\n"
     ]
    }
   ],
   "source": [
    "import json\n",
    "from pathlib import Path\n",
    "\n",
    "out_dir = Path(\"/Users/asanali.tokenov/Desktop/Assignment_1_Assanali_Tokenov/project/results\")\n",
    "out_file = out_dir / \"report.json\"\n",
    "\n",
    "out_dir.mkdir(parents=True, exist_ok=True)\n",
    "\n",
    "if out_file.exists():\n",
    "    ans = input(f\"File '{out_file}' already existed. Re-record? (y/n): \").strip().lower()\n",
    "    if ans not in (\"y\", \"yes\"):\n",
    "        print(\"Saving is declined\")\n",
    "        raise SystemExit\n",
    "    \n",
    "cols_to_save = [\"full_name\", \"group\", \"avg_score\"] # columns to save\n",
    "records = df[cols_to_save].to_dict(orient=\"records\") # forms a list of verbal types\n",
    "\n",
    "# converting the types to native Python types (json doesn't like numpy)\n",
    "clean_records = []\n",
    "for r in records:\n",
    "    clean = {}\n",
    "    for k, v in r.items():\n",
    "        # NaN -> None\n",
    "        if pd.isna(v):   # checking is it empty, if yes -> None, otherwise continue the loop\n",
    "            clean[k] = None\n",
    "            continue\n",
    "        # numpy scalars .item() -> python scalar\n",
    "        try:\n",
    "            if hasattr(v, \"item\"):\n",
    "                v = v.item()  # converting to Python type\n",
    "        except Exception:\n",
    "            pass\n",
    "        clean[k] = v\n",
    "    clean_records.append(clean)\n",
    "\n",
    "with open(out_file, \"w\", encoding=\"utf-8\") as f:\n",
    "    json.dump(clean_records, f, ensure_ascii= False, indent= 2)\n",
    "\n",
    "print(f\"Results are saved in: {out_file}\")"
   ]
  },
  {
   "cell_type": "markdown",
   "id": "47131828",
   "metadata": {},
   "source": [
    "### Archive and Work with Pathlib"
   ]
  },
  {
   "cell_type": "code",
   "execution_count": 29,
   "id": "27acde4a",
   "metadata": {},
   "outputs": [
    {
     "name": "stdout",
     "output_type": "stream",
     "text": [
      "Archive created: /Users/asanali.tokenov/Desktop/Assignment_1_Assanali_Tokenov/project/results.zip\n",
      "report.json exists at: /Users/asanali.tokenov/Desktop/Assignment_1_Assanali_Tokenov/project/results/report.json\n",
      "Size: 13868 bytes (13.54 KB)\n",
      "Last modified: 2025-09-24 19:44:35\n"
     ]
    }
   ],
   "source": [
    "import zipfile # archive to zip-file\n",
    "from datetime import datetime  # need to complete task 5\n",
    "\n",
    "zip_path = out_dir.parent / \"results.zip\"  # archive near to our directory results\n",
    "\n",
    "with zipfile.ZipFile(zip_path, \"w\", compression=zipfile.ZIP_DEFLATED) as zf:\n",
    "    for p in out_dir.rglob(\"*\"):\n",
    "        if p.is_file():\n",
    "            # in archive we will have the next structure: results/...\n",
    "            zf.write(p, arcname=p.relative_to(out_dir.parent))\n",
    "\n",
    "print(f\"Archive created: {zip_path}\")\n",
    "\n",
    "# 5) Pathlib: checking report.json, output the size and time of modification\n",
    "if out_file.exists():\n",
    "    st = out_file.stat()\n",
    "    size_bytes = st.st_size\n",
    "    modified_dt = datetime.fromtimestamp(st.st_mtime)\n",
    "    print(f\"report.json exists at: {out_file}\")\n",
    "    print(f\"Size: {size_bytes} bytes ({size_bytes/1024:.2f} KB)\")\n",
    "    print(f\"Last modified: {modified_dt:%Y-%m-%d %H:%M:%S}\")\n",
    "else:\n",
    "    print(f\"report.json not found at: {out_file}\")\n"
   ]
  },
  {
   "cell_type": "markdown",
   "id": "5f6589c7",
   "metadata": {},
   "source": [
    "## Task 2"
   ]
  },
  {
   "cell_type": "code",
   "execution_count": 33,
   "id": "ad47f840",
   "metadata": {},
   "outputs": [
    {
     "name": "stdout",
     "output_type": "stream",
     "text": [
      "Поисковый запрос отсутствует в данных файлах.\n"
     ]
    }
   ],
   "source": [
    "from pathlib import Path\n",
    "\n",
    "# Directory with txt files\n",
    "texts_dir = Path(\"texts\")\n",
    "texts_dir.mkdir(parents=True, exist_ok=True)\n",
    "\n",
    "# Creating 5 txt files with some words (in my case i took lyrics from song Die With a Smile)\n",
    "sample_files = [texts_dir / f\"name_{i}.txt\" for i in range(1, 6)]\n",
    "if not all(p.exists() for p in sample_files):\n",
    "    samples = [\n",
    "        \"I just woke up from a dream\",\n",
    "        \"Where you and I had to say goodbye\",\n",
    "        \"And I don't know what it all means\",\n",
    "        \"But since I survived, I realized\",\n",
    "        \"If the world was ending\"\n",
    "    ]\n",
    "    for p, text in zip(sample_files, samples):\n",
    "        p.write_text(text, encoding=\"utf-8\")\n",
    "\n",
    "# Search\n",
    "query = input(\"Введите поисковый запрос: \").strip()\n",
    "if not query:\n",
    "    print(\"Пустой запрос — нечего искать.\")\n",
    "else:\n",
    "    query_lower = query.lower()\n",
    "    matches = []\n",
    "    for p in texts_dir.glob(\"*.txt\"):\n",
    "        try:\n",
    "            content = p.read_text(encoding=\"utf-8\").lower()\n",
    "        except UnicodeDecodeError:\n",
    "            continue  # skip, if file not in UTF-8\n",
    "        if query_lower in content:\n",
    "            matches.append(p.name)\n",
    "\n",
    "    if matches:\n",
    "        print(\"Найдено в файлах:\")\n",
    "        for name in sorted(matches):\n",
    "            print(name)\n",
    "    else:\n",
    "        print(\"Поисковый запрос отсутствует в данных файлах.\")\n"
   ]
  },
  {
   "cell_type": "markdown",
   "id": "292f5384",
   "metadata": {},
   "source": [
    "## Task 3"
   ]
  },
  {
   "cell_type": "code",
   "execution_count": 31,
   "id": "9e45c6fa",
   "metadata": {},
   "outputs": [
    {
     "name": "stdout",
     "output_type": "stream",
     "text": [
      "Latin letters: 236\n",
      "Words: 47\n",
      "Strings: 6\n"
     ]
    }
   ],
   "source": [
    "from pathlib import Path\n",
    "import re\n",
    "\n",
    "p = Path(\"file.txt\")\n",
    "text = p.read_text(encoding=\"utf-8\", errors=\"ignore\")\n",
    "\n",
    "latin_letters = len(re.findall(r\"[A-Za-z]\", text))      # latin words\n",
    "words = len(re.findall(r\"[A-Za-z]+\", text))             # all words latin and so on\n",
    "lines = len(text.splitlines())                          # strings\n",
    "\n",
    "print(\"Latin letters:\", latin_letters)\n",
    "print(\"Words:\", words)\n",
    "print(\"Strings:\", lines)\n"
   ]
  },
  {
   "cell_type": "markdown",
   "id": "4e266173",
   "metadata": {},
   "source": [
    "## Task 4"
   ]
  },
  {
   "cell_type": "code",
   "execution_count": 15,
   "id": "000866a4",
   "metadata": {},
   "outputs": [
    {
     "name": "stdout",
     "output_type": "stream",
     "text": [
      "x****** is a high-level, interpreted *******ming **nguage that has gained immense popu**rity in recent years. It was first created in the **te 1980s by Guido van Rossum, and since then, it has become one of the most widely used *******ming **nguages in the world.\n",
      "****** is known for its simplicity and ease of use, which makes it an ideal **nguage for beginners. It has a straightforward syntax and requires less c**e than other *******ming **nguages, which means that developers can focus on solving problems rather than writing long lines of c**e. ******_******_*******ming\n"
     ]
    }
   ],
   "source": [
    "from pathlib import Path\n",
    "import re\n",
    "\n",
    "words_path = Path(\"words.txt\")\n",
    "forbidden_path = Path(\"forbidden_words.txt\")\n",
    "\n",
    "text = words_path.read_text(encoding=\"utf-8\", errors=\"ignore\")\n",
    "forbidden = forbidden_path.read_text(encoding=\"utf-8\", errors=\"ignore\").split()\n",
    "\n",
    "# trick from gpt: longer words first, so as not to \"break\" long matches with short ones\n",
    "for w in sorted(set(forbidden), key=len, reverse=True):\n",
    "    pattern = re.compile(re.escape(w), re.IGNORECASE)\n",
    "    text = pattern.sub(lambda m: \"*\" * len(m.group(0)), text)\n",
    "\n",
    "print(text)\n"
   ]
  }
 ],
 "metadata": {
  "kernelspec": {
   "display_name": "Python 3",
   "language": "python",
   "name": "python3"
  },
  "language_info": {
   "codemirror_mode": {
    "name": "ipython",
    "version": 3
   },
   "file_extension": ".py",
   "mimetype": "text/x-python",
   "name": "python",
   "nbconvert_exporter": "python",
   "pygments_lexer": "ipython3",
   "version": "3.10.17"
  }
 },
 "nbformat": 4,
 "nbformat_minor": 5
}
